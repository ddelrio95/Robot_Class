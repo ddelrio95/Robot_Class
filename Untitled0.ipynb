{
  "nbformat": 4,
  "nbformat_minor": 0,
  "metadata": {
    "colab": {
      "name": "Untitled0.ipynb",
      "provenance": [],
      "collapsed_sections": [],
      "authorship_tag": "ABX9TyPEFo39o2WP7GD7HM1U4gYT",
      "include_colab_link": true
    },
    "kernelspec": {
      "name": "python3",
      "display_name": "Python 3"
    },
    "language_info": {
      "name": "python"
    }
  },
  "cells": [
    {
      "cell_type": "markdown",
      "metadata": {
        "id": "view-in-github",
        "colab_type": "text"
      },
      "source": [
        "<a href=\"https://colab.research.google.com/github/ddelrio95/Robot_Class/blob/main/Untitled0.ipynb\" target=\"_parent\"><img src=\"https://colab.research.google.com/assets/colab-badge.svg\" alt=\"Open In Colab\"/></a>"
      ]
    },
    {
      "cell_type": "markdown",
      "metadata": {
        "id": "m0MNrOKqJDAY"
      },
      "source": [
        "Robot Class Project"
      ]
    },
    {
      "cell_type": "code",
      "metadata": {
        "id": "rZIietvcI3B5"
      },
      "source": [
        "class Robot:\n",
        "    def __init__(self, name, color, weight):\n",
        "        self.name = giveName\n",
        "        self.color = givenColor\n",
        "        self.giveWeight = givenWeight\n",
        "\n",
        "    def introduce_self(self):\n",
        "      print(\"My name is \" + self.name)  #this is Java"
      ],
      "execution_count": 10,
      "outputs": []
    },
    {
      "cell_type": "code",
      "metadata": {
        "id": "KxnFZvTSKUv4"
      },
      "source": [
        "r1 = Robot()\n",
        "r1.name = \"Tom\"\n",
        "r1.color = \"red\"\n",
        "r1.weight = 30\n",
        "\n",
        "\n",
        "r2 = Robot()\n",
        "r2.name = \"Jerry\"\n",
        "r2.color = \"red\"\n",
        "r2.weight = 40"
      ],
      "execution_count": null,
      "outputs": []
    },
    {
      "cell_type": "code",
      "metadata": {
        "colab": {
          "base_uri": "https://localhost:8080/"
        },
        "id": "6ZpaiD5CKW1k",
        "outputId": "2b7448f9-1210-4a83-c99c-01fa1d889d1d"
      },
      "source": [
        "r1.introduce_self()\n",
        "r2.introduce_self()"
      ],
      "execution_count": 7,
      "outputs": [
        {
          "output_type": "stream",
          "text": [
            "My name is Tom\n",
            "My name is Jerry\n"
          ],
          "name": "stdout"
        }
      ]
    },
    {
      "cell_type": "code",
      "metadata": {
        "id": "-2OPqxFKMVbs"
      },
      "source": [
        "class Users:\n",
        "  pass"
      ],
      "execution_count": null,
      "outputs": []
    },
    {
      "cell_type": "code",
      "metadata": {
        "id": "E7WJVkrtNRke"
      },
      "source": [
        "user1 = Users()\n",
        "user1.first_name = \"Dave\"\n",
        "user1.last_name = \"Bowman\"\n",
        "user1.age = 36"
      ],
      "execution_count": 26,
      "outputs": []
    },
    {
      "cell_type": "code",
      "metadata": {
        "id": "pSQ34pMCNav0"
      },
      "source": [
        "user2 = Users()\n",
        "user2.fist_name = \"Dario\"\n",
        "user2.last_name = \"del Rio\"\n",
        "user2.age = 26"
      ],
      "execution_count": 27,
      "outputs": []
    },
    {
      "cell_type": "code",
      "metadata": {
        "id": "HLBOsTBANOdN"
      },
      "source": [
        "print(user1.first_name)\n",
        "print(user1.last_name)\n",
        "print(user1.age)\n",
        "\n",
        "print(user2.fist_name)\n",
        "print(user2.last_name)\n",
        "print(user2.age)"
      ],
      "execution_count": null,
      "outputs": []
    },
    {
      "cell_type": "code",
      "metadata": {
        "id": "ocGExsK2OHq9"
      },
      "source": [
        "fist_name = \"Arthur\"\n",
        "last_name = \"Clarke\""
      ],
      "execution_count": 30,
      "outputs": []
    },
    {
      "cell_type": "code",
      "metadata": {
        "id": "3wdaNnsRORRy"
      },
      "source": [
        "print(fist_name, last_name)"
      ],
      "execution_count": null,
      "outputs": []
    },
    {
      "cell_type": "code",
      "metadata": {
        "id": "znMrA068OZnS"
      },
      "source": [
        "print(user1.first_name, user1.last_name, user1.age, user2.fist_name, user2.last_name, user2.age)"
      ],
      "execution_count": null,
      "outputs": []
    },
    {
      "cell_type": "markdown",
      "metadata": {
        "id": "idSawTLOPhYS"
      },
      "source": [
        "This is an example of a new class "
      ]
    },
    {
      "cell_type": "code",
      "metadata": {
        "id": "p7bpNa7HOv_w"
      },
      "source": [
        "class Cars:"
      ],
      "execution_count": 33,
      "outputs": []
    },
    {
      "cell_type": "code",
      "metadata": {
        "id": "38JPidTTO21s"
      },
      "source": [
        "car1 = Cars()\n",
        "car1.brand = \"BMW\"\n",
        "car1.color = \"white\"\n",
        "car1.model = \"m2\"\n",
        "car1.year = 2020\n",
        "\n",
        "car2 = Cars()\n",
        "car2.brand = \"Porsche\"\n",
        "car2.color = \"grey\"\n",
        "car2.model = \"911\"\n",
        "car2.year = 2018\n",
        "\n",
        "car3 = Cars()\n",
        "car3.brand = \"Mercedez\"\n",
        "car3.color = \"black\"\n",
        "car3.model = \"s63\"\n",
        "car3.year = 2019\n",
        "\n",
        "car4 = Cars()\n",
        "car4.brand = \"Audi\"\n",
        "car4.color = \"blue\"\n",
        "car4.model = \"rs6\"\n",
        "car4.year = 2021\n",
        "\n",
        "car5 = Cars()\n",
        "car5.brand = \"Honda\"\n",
        "car5.color = \"brown\"\n",
        "car5.model = \"accord\"\n",
        "car5.year = 2014"
      ],
      "execution_count": 34,
      "outputs": []
    },
    {
      "cell_type": "code",
      "metadata": {
        "id": "EjL32pZ8Rvkc"
      },
      "source": [
        "class User:\n",
        "  def __init__(self, full_name, birthday):\n",
        "    self.name = full_name\n",
        "    self.birthday = birthday ##yyyymmdd"
      ],
      "execution_count": 56,
      "outputs": []
    },
    {
      "cell_type": "code",
      "metadata": {
        "id": "HznfklJ8TrPJ"
      },
      "source": [
        "user = User(\"Dave Bowman\", \"19710315\")\n",
        "print(user.full_name)\n",
        "print(user.birthday)"
      ],
      "execution_count": null,
      "outputs": []
    }
  ]
}