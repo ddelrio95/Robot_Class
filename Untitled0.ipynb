{
  "nbformat": 4,
  "nbformat_minor": 0,
  "metadata": {
    "colab": {
      "name": "Untitled0.ipynb",
      "provenance": [],
      "authorship_tag": "ABX9TyOvP9DICrgPjxnNgpMajFIB",
      "include_colab_link": true
    },
    "kernelspec": {
      "name": "python3",
      "display_name": "Python 3"
    },
    "language_info": {
      "name": "python"
    }
  },
  "cells": [
    {
      "cell_type": "markdown",
      "metadata": {
        "id": "view-in-github",
        "colab_type": "text"
      },
      "source": [
        "<a href=\"https://colab.research.google.com/github/ddelrio95/Robot_Class/blob/main/Untitled0.ipynb\" target=\"_parent\"><img src=\"https://colab.research.google.com/assets/colab-badge.svg\" alt=\"Open In Colab\"/></a>"
      ]
    },
    {
      "cell_type": "markdown",
      "metadata": {
        "id": "m0MNrOKqJDAY"
      },
      "source": [
        "Robot Class Project"
      ]
    },
    {
      "cell_type": "code",
      "metadata": {
        "id": "rZIietvcI3B5"
      },
      "source": [
        "class Robot:\n",
        "    def __init__(self, name, color, weight):\n",
        "        self.name = giveName\n",
        "        self.color = givenColor\n",
        "        self.giveWeight = givenWeight\n",
        "\n",
        "    def introduce_self(self):\n",
        "      print(\"My name is \" + self.name)  #this is Java"
      ],
      "execution_count": 10,
      "outputs": []
    },
    {
      "cell_type": "code",
      "metadata": {
        "id": "KxnFZvTSKUv4"
      },
      "source": [
        "r1 = Robot()\n",
        "r1.name = \"Tom\"\n",
        "r1.color = \"red\"\n",
        "r1.weight = 30\n",
        "\n",
        "\n",
        "r2 = Robot()\n",
        "r2.name = \"Jerry\"\n",
        "r2.color = \"red\"\n",
        "r2.weight = 40"
      ],
      "execution_count": null,
      "outputs": []
    },
    {
      "cell_type": "code",
      "metadata": {
        "colab": {
          "base_uri": "https://localhost:8080/"
        },
        "id": "6ZpaiD5CKW1k",
        "outputId": "2b7448f9-1210-4a83-c99c-01fa1d889d1d"
      },
      "source": [
        "r1.introduce_self()\n",
        "r2.introduce_self()"
      ],
      "execution_count": 7,
      "outputs": [
        {
          "output_type": "stream",
          "text": [
            "My name is Tom\n",
            "My name is Jerry\n"
          ],
          "name": "stdout"
        }
      ]
    }
  ]
}